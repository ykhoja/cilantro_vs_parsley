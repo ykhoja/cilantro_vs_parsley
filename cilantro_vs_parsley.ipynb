{
  "nbformat": 4,
  "nbformat_minor": 0,
  "metadata": {
    "colab": {
      "name": "cilantro_vs_parsley.ipynb",
      "version": "0.3.2",
      "provenance": [],
      "collapsed_sections": [],
      "include_colab_link": true
    },
    "kernelspec": {
      "name": "python2",
      "display_name": "Python 2"
    }
  },
  "cells": [
    {
      "cell_type": "markdown",
      "metadata": {
        "id": "view-in-github",
        "colab_type": "text"
      },
      "source": [
        "<a href=\"https://colab.research.google.com/github/ykhoja/cilantro_vs_parsley/blob/master/cilantro_vs_parsley.ipynb\" target=\"_parent\"><img src=\"https://colab.research.google.com/assets/colab-badge.svg\" alt=\"Open In Colab\"/></a>"
      ]
    },
    {
      "cell_type": "code",
      "metadata": {
        "id": "JkdE69Qp-_hc",
        "colab_type": "code",
        "colab": {}
      },
      "source": [
        "from tensorflow.python.keras.applications import ResNet50\n",
        "from tensorflow.python.keras.models import Sequential\n",
        "from tensorflow.python.keras.layers import Dense, Flatten, GlobalAveragePooling2D\n",
        "from tensorflow.python.keras.applications.resnet50 import preprocess_input\n",
        "from tensorflow.python.keras.preprocessing.image import ImageDataGenerator"
      ],
      "execution_count": 0,
      "outputs": []
    },
    {
      "cell_type": "code",
      "metadata": {
        "id": "t74izpnV_09u",
        "colab_type": "code",
        "outputId": "5695276b-af33-4f73-9951-87eb30ba3655",
        "colab": {
          "base_uri": "https://localhost:8080/",
          "height": 123
        }
      },
      "source": [
        "#Mounting Google Drive\n",
        "\n",
        "from google.colab import drive\n",
        "drive.mount('/content/gdrive')"
      ],
      "execution_count": 0,
      "outputs": [
        {
          "output_type": "stream",
          "text": [
            "Go to this URL in a browser: https://accounts.google.com/o/oauth2/auth?client_id=947318989803-6bn6qk8qdgf4n4g3pfee6491hc0brc4i.apps.googleusercontent.com&redirect_uri=urn%3Aietf%3Awg%3Aoauth%3A2.0%3Aoob&scope=email%20https%3A%2F%2Fwww.googleapis.com%2Fauth%2Fdocs.test%20https%3A%2F%2Fwww.googleapis.com%2Fauth%2Fdrive%20https%3A%2F%2Fwww.googleapis.com%2Fauth%2Fdrive.photos.readonly%20https%3A%2F%2Fwww.googleapis.com%2Fauth%2Fpeopleapi.readonly&response_type=code\n",
            "\n",
            "Enter your authorization code:\n",
            "··········\n",
            "Mounted at /content/gdrive\n"
          ],
          "name": "stdout"
        }
      ]
    },
    {
      "cell_type": "code",
      "metadata": {
        "id": "yl8uRMv5AFR-",
        "colab_type": "code",
        "outputId": "0fb29d5f-86fc-48b1-b539-b3fcba6fd86b",
        "colab": {
          "base_uri": "https://localhost:8080/",
          "height": 137
        }
      },
      "source": [
        "num_classes = 2\n",
        "\n",
        "my_new_model = Sequential()\n",
        "my_new_model.add(ResNet50(include_top=False, pooling='avg', weights='imagenet'))\n",
        "my_new_model.add(Dense(num_classes, activation='softmax'))\n",
        "\n",
        "# Say not to train first layer (ResNet) model. It is already trained\n",
        "my_new_model.layers[0].trainable = False\n",
        "\n",
        "my_new_model.compile(optimizer='Adam', loss='categorical_crossentropy', metrics=['accuracy'])\n",
        "\n",
        "image_size = 224\n",
        "data_generator = ImageDataGenerator(preprocessing_function=preprocess_input)\n",
        "\n",
        "\n",
        "train_generator = data_generator.flow_from_directory(\n",
        "        './gdrive/My Drive/datasets/cilantro_vs_parsley/train',\n",
        "        target_size=(image_size, image_size),\n",
        "        batch_size=20,\n",
        "        class_mode='categorical')\n",
        "\n",
        "validation_generator = data_generator.flow_from_directory(\n",
        "        './gdrive/My Drive/datasets/cilantro_vs_parsley/val',\n",
        "        target_size=(image_size, image_size),\n",
        "        batch_size=4,\n",
        "        class_mode='categorical')\n",
        "\n",
        "my_new_model.fit_generator(\n",
        "        train_generator,\n",
        "        steps_per_epoch=9,\n",
        "        validation_data=validation_generator,\n",
        "        validation_steps=5,\n",
        "        epochs=2)"
      ],
      "execution_count": 0,
      "outputs": [
        {
          "output_type": "stream",
          "text": [
            "Found 199 images belonging to 2 classes.\n",
            "Found 24 images belonging to 2 classes.\n",
            "Epoch 1/2\n",
            "9/9 [==============================] - 65s 7s/step - loss: 0.6568 - acc: 0.6034 - val_loss: 0.3509 - val_acc: 0.8500\n",
            "Epoch 2/2\n",
            "9/9 [==============================] - 47s 5s/step - loss: 0.3987 - acc: 0.8167 - val_loss: 0.2671 - val_acc: 0.9000\n"
          ],
          "name": "stdout"
        },
        {
          "output_type": "execute_result",
          "data": {
            "text/plain": [
              "<tensorflow.python.keras.callbacks.History at 0x7f0de0160c50>"
            ]
          },
          "metadata": {
            "tags": []
          },
          "execution_count": 30
        }
      ]
    },
    {
      "cell_type": "code",
      "metadata": {
        "id": "m6oqM6RgamVr",
        "colab_type": "code",
        "outputId": "751881ce-ff0e-4bdc-ac91-8de8ee2900dc",
        "colab": {
          "base_uri": "https://localhost:8080/",
          "height": 34
        }
      },
      "source": [
        "# serialize model to YAML\n",
        "model_yaml = my_new_model.to_yaml()\n",
        "with open(\"model.yaml\", \"w\") as yaml_file:\n",
        "    yaml_file.write(model_yaml)\n",
        "# serialize weights to HDF5\n",
        "my_new_model.save_weights(\"./gdrive/My Drive/cilley.h5\")\n",
        "print(\"Saved model to disk\")"
      ],
      "execution_count": 0,
      "outputs": [
        {
          "output_type": "stream",
          "text": [
            "Saved model to disk\n"
          ],
          "name": "stdout"
        }
      ]
    },
    {
      "cell_type": "code",
      "metadata": {
        "id": "samxuXBrw174",
        "colab_type": "code",
        "colab": {}
      },
      "source": [
        ""
      ],
      "execution_count": 0,
      "outputs": []
    }
  ]
}